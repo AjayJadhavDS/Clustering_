{
 "cells": [
  {
   "cell_type": "code",
   "execution_count": 1,
   "metadata": {},
   "outputs": [],
   "source": [
    "import pandas as pd\n",
    "\n",
    "import matplotlib.pyplot as plt\n",
    "%matplotlib inline\n",
    "\n",
    "df = pd.read_csv(\"C:/Users/ajadhav/Downloads/df_la.csv\")\n",
    "df.drop(df.columns[0],axis=1,inplace=True)"
   ]
  },
  {
   "cell_type": "code",
   "execution_count": 2,
   "metadata": {},
   "outputs": [
    {
     "data": {
      "text/plain": [
       "(2282, 45)"
      ]
     },
     "execution_count": 2,
     "metadata": {},
     "output_type": "execute_result"
    }
   ],
   "source": [
    "df.shape"
   ]
  },
  {
   "cell_type": "code",
   "execution_count": 3,
   "metadata": {},
   "outputs": [
    {
     "data": {
      "text/html": [
       "<div>\n",
       "<style scoped>\n",
       "    .dataframe tbody tr th:only-of-type {\n",
       "        vertical-align: middle;\n",
       "    }\n",
       "\n",
       "    .dataframe tbody tr th {\n",
       "        vertical-align: top;\n",
       "    }\n",
       "\n",
       "    .dataframe thead th {\n",
       "        text-align: right;\n",
       "    }\n",
       "</style>\n",
       "<table border=\"1\" class=\"dataframe\">\n",
       "  <thead>\n",
       "    <tr style=\"text-align: right;\">\n",
       "      <th></th>\n",
       "      <th>Year</th>\n",
       "      <th>ONS Code</th>\n",
       "      <th>LA Name</th>\n",
       "      <th>Region</th>\n",
       "      <th>Total Incidents</th>\n",
       "      <th>Highway Incidents</th>\n",
       "      <th>Footpath / Bridleway Incidents</th>\n",
       "      <th>Back Alleyway Incidents</th>\n",
       "      <th>Railway Incidents</th>\n",
       "      <th>Council Land Incidents</th>\n",
       "      <th>...</th>\n",
       "      <th>Car Boot or Less Clearance Costs (£)</th>\n",
       "      <th>Small Van Load Incidents</th>\n",
       "      <th>Small Van Load Clearance Costs (£)</th>\n",
       "      <th>Transit Van Load Incidents</th>\n",
       "      <th>Transit Van Load Clearance Costs (£)</th>\n",
       "      <th>Tipper Lorry Load Incidents</th>\n",
       "      <th>Tipper Lorry Load Clearance Costs (£)</th>\n",
       "      <th>Significant / Multi Loads Incidents</th>\n",
       "      <th>Sig / Multi Loads Clearance Costs (£)</th>\n",
       "      <th>Total Incidents Clearance Costs (£)</th>\n",
       "    </tr>\n",
       "  </thead>\n",
       "  <tbody>\n",
       "    <tr>\n",
       "      <td>0</td>\n",
       "      <td>2012-13</td>\n",
       "      <td>E07000223</td>\n",
       "      <td>Adur</td>\n",
       "      <td>South East</td>\n",
       "      <td>244.0</td>\n",
       "      <td>40.0</td>\n",
       "      <td>5.0</td>\n",
       "      <td>5.0</td>\n",
       "      <td>0.0</td>\n",
       "      <td>178.0</td>\n",
       "      <td>...</td>\n",
       "      <td>2958.0</td>\n",
       "      <td>54.0</td>\n",
       "      <td>3024.0</td>\n",
       "      <td>11.0</td>\n",
       "      <td>1265.0</td>\n",
       "      <td>0.0</td>\n",
       "      <td>0</td>\n",
       "      <td>0.0</td>\n",
       "      <td>0</td>\n",
       "      <td>9370.0</td>\n",
       "    </tr>\n",
       "    <tr>\n",
       "      <td>1</td>\n",
       "      <td>2012-13</td>\n",
       "      <td>E07000026</td>\n",
       "      <td>Allerdale</td>\n",
       "      <td>North West</td>\n",
       "      <td>811.0</td>\n",
       "      <td>158.0</td>\n",
       "      <td>108.0</td>\n",
       "      <td>216.0</td>\n",
       "      <td>1.0</td>\n",
       "      <td>96.0</td>\n",
       "      <td>...</td>\n",
       "      <td>5046.0</td>\n",
       "      <td>428.0</td>\n",
       "      <td>23968.0</td>\n",
       "      <td>51.0</td>\n",
       "      <td>5865.0</td>\n",
       "      <td>17.0</td>\n",
       "      <td>5950</td>\n",
       "      <td>11.0</td>\n",
       "      <td>3940</td>\n",
       "      <td>47879.0</td>\n",
       "    </tr>\n",
       "    <tr>\n",
       "      <td>2</td>\n",
       "      <td>2012-13</td>\n",
       "      <td>E07000032</td>\n",
       "      <td>Amber Valley</td>\n",
       "      <td>East Midlands</td>\n",
       "      <td>219.0</td>\n",
       "      <td>174.0</td>\n",
       "      <td>18.0</td>\n",
       "      <td>0.0</td>\n",
       "      <td>0.0</td>\n",
       "      <td>25.0</td>\n",
       "      <td>...</td>\n",
       "      <td>580.0</td>\n",
       "      <td>59.0</td>\n",
       "      <td>3304.0</td>\n",
       "      <td>31.0</td>\n",
       "      <td>3565.0</td>\n",
       "      <td>2.0</td>\n",
       "      <td>700</td>\n",
       "      <td>2.0</td>\n",
       "      <td>4000</td>\n",
       "      <td>15172.0</td>\n",
       "    </tr>\n",
       "    <tr>\n",
       "      <td>3</td>\n",
       "      <td>2012-13</td>\n",
       "      <td>E07000224</td>\n",
       "      <td>Arun</td>\n",
       "      <td>South East</td>\n",
       "      <td>716.0</td>\n",
       "      <td>248.0</td>\n",
       "      <td>78.0</td>\n",
       "      <td>36.0</td>\n",
       "      <td>0.0</td>\n",
       "      <td>50.0</td>\n",
       "      <td>...</td>\n",
       "      <td>4147.0</td>\n",
       "      <td>140.0</td>\n",
       "      <td>7840.0</td>\n",
       "      <td>37.0</td>\n",
       "      <td>4255.0</td>\n",
       "      <td>12.0</td>\n",
       "      <td>3851</td>\n",
       "      <td>3.0</td>\n",
       "      <td>1080</td>\n",
       "      <td>24503.0</td>\n",
       "    </tr>\n",
       "    <tr>\n",
       "      <td>4</td>\n",
       "      <td>2012-13</td>\n",
       "      <td>E07000170</td>\n",
       "      <td>Ashfield</td>\n",
       "      <td>East Midlands</td>\n",
       "      <td>477.0</td>\n",
       "      <td>205.0</td>\n",
       "      <td>115.0</td>\n",
       "      <td>33.0</td>\n",
       "      <td>0.0</td>\n",
       "      <td>62.0</td>\n",
       "      <td>...</td>\n",
       "      <td>4756.0</td>\n",
       "      <td>162.0</td>\n",
       "      <td>9072.0</td>\n",
       "      <td>43.0</td>\n",
       "      <td>4945.0</td>\n",
       "      <td>0.0</td>\n",
       "      <td>10</td>\n",
       "      <td>0.0</td>\n",
       "      <td>0</td>\n",
       "      <td>21037.0</td>\n",
       "    </tr>\n",
       "  </tbody>\n",
       "</table>\n",
       "<p>5 rows × 45 columns</p>\n",
       "</div>"
      ],
      "text/plain": [
       "      Year   ONS Code       LA Name         Region  Total Incidents  \\\n",
       "0  2012-13  E07000223          Adur     South East            244.0   \n",
       "1  2012-13  E07000026     Allerdale     North West            811.0   \n",
       "2  2012-13  E07000032  Amber Valley  East Midlands            219.0   \n",
       "3  2012-13  E07000224          Arun     South East            716.0   \n",
       "4  2012-13  E07000170      Ashfield  East Midlands            477.0   \n",
       "\n",
       "   Highway Incidents  Footpath / Bridleway Incidents  Back Alleyway Incidents  \\\n",
       "0               40.0                             5.0                      5.0   \n",
       "1              158.0                           108.0                    216.0   \n",
       "2              174.0                            18.0                      0.0   \n",
       "3              248.0                            78.0                     36.0   \n",
       "4              205.0                           115.0                     33.0   \n",
       "\n",
       "   Railway Incidents  Council Land Incidents  ...  \\\n",
       "0                0.0                   178.0  ...   \n",
       "1                1.0                    96.0  ...   \n",
       "2                0.0                    25.0  ...   \n",
       "3                0.0                    50.0  ...   \n",
       "4                0.0                    62.0  ...   \n",
       "\n",
       "   Car Boot or Less Clearance Costs (£)  Small Van Load Incidents  \\\n",
       "0                                2958.0                      54.0   \n",
       "1                                5046.0                     428.0   \n",
       "2                                 580.0                      59.0   \n",
       "3                                4147.0                     140.0   \n",
       "4                                4756.0                     162.0   \n",
       "\n",
       "   Small Van Load Clearance Costs (£)  Transit Van Load Incidents  \\\n",
       "0                              3024.0                        11.0   \n",
       "1                             23968.0                        51.0   \n",
       "2                              3304.0                        31.0   \n",
       "3                              7840.0                        37.0   \n",
       "4                              9072.0                        43.0   \n",
       "\n",
       "   Transit Van Load Clearance Costs (£)  Tipper Lorry Load Incidents  \\\n",
       "0                                1265.0                          0.0   \n",
       "1                                5865.0                         17.0   \n",
       "2                                3565.0                          2.0   \n",
       "3                                4255.0                         12.0   \n",
       "4                                4945.0                          0.0   \n",
       "\n",
       "   Tipper Lorry Load Clearance Costs (£)  Significant / Multi Loads Incidents  \\\n",
       "0                                      0                                  0.0   \n",
       "1                                   5950                                 11.0   \n",
       "2                                    700                                  2.0   \n",
       "3                                   3851                                  3.0   \n",
       "4                                     10                                  0.0   \n",
       "\n",
       "   Sig / Multi Loads Clearance Costs (£)  Total Incidents Clearance Costs (£)  \n",
       "0                                      0                               9370.0  \n",
       "1                                   3940                              47879.0  \n",
       "2                                   4000                              15172.0  \n",
       "3                                   1080                              24503.0  \n",
       "4                                      0                              21037.0  \n",
       "\n",
       "[5 rows x 45 columns]"
      ]
     },
     "execution_count": 3,
     "metadata": {},
     "output_type": "execute_result"
    }
   ],
   "source": [
    "df.head()"
   ]
  },
  {
   "cell_type": "code",
   "execution_count": 4,
   "metadata": {},
   "outputs": [
    {
     "data": {
      "text/plain": [
       "['Year',\n",
       " 'Region',\n",
       " 'Sig / Multi Loads Clearance Costs (£)',\n",
       " 'Tipper Lorry Load Clearance Costs (£)',\n",
       " 'ONS Code',\n",
       " 'LA Name']"
      ]
     },
     "execution_count": 4,
     "metadata": {},
     "output_type": "execute_result"
    }
   ],
   "source": [
    "num_cols = df._get_numeric_data().columns\n",
    "cols = df.columns\n",
    "list(set(cols) - set(num_cols))"
   ]
  },
  {
   "cell_type": "code",
   "execution_count": 5,
   "metadata": {},
   "outputs": [],
   "source": [
    "from sklearn.preprocessing import LabelEncoder\n",
    "le_region = LabelEncoder()\n",
    "le_region.fit(df['Region'])\n",
    "df['Region'] = le_region.transform(df['Region'])"
   ]
  },
  {
   "cell_type": "code",
   "execution_count": 6,
   "metadata": {},
   "outputs": [],
   "source": [
    "le_name = LabelEncoder()\n",
    "le_name.fit(df['LA Name'])\n",
    "df['LA Name'] = le_name.transform(df['LA Name'])"
   ]
  },
  {
   "cell_type": "code",
   "execution_count": 7,
   "metadata": {},
   "outputs": [],
   "source": [
    "import re\n",
    "df['Tipper Lorry Load Clearance Costs (£)'] = df['Tipper Lorry Load Clearance Costs (£)'].str.replace(r'\\D', '')\n",
    "df['Sig / Multi Loads Clearance Costs (£)'] = df['Sig / Multi Loads Clearance Costs (£)'].str.replace(r'\\D', '')"
   ]
  },
  {
   "cell_type": "code",
   "execution_count": 8,
   "metadata": {},
   "outputs": [],
   "source": [
    "df['Sig / Multi Loads Clearance Costs (£)'].fillna(0,inplace=True)\n",
    "df['Sig / Multi Loads Clearance Costs (£)'] = df['Sig / Multi Loads Clearance Costs (£)'].astype(int)\n",
    "\n",
    "df['Tipper Lorry Load Clearance Costs (£)'].fillna(0,inplace=True)\n",
    "df['Tipper Lorry Load Clearance Costs (£)'] = df['Tipper Lorry Load Clearance Costs (£)'].astype(int)"
   ]
  },
  {
   "cell_type": "code",
   "execution_count": 9,
   "metadata": {},
   "outputs": [],
   "source": [
    "newdf = df.drop(['Year','ONS Code'],axis=1)"
   ]
  },
  {
   "cell_type": "code",
   "execution_count": 10,
   "metadata": {},
   "outputs": [],
   "source": [
    "newdf.fillna(0,inplace=True)"
   ]
  },
  {
   "cell_type": "code",
   "execution_count": 11,
   "metadata": {},
   "outputs": [
    {
     "data": {
      "text/plain": [
       "[]"
      ]
     },
     "execution_count": 11,
     "metadata": {},
     "output_type": "execute_result"
    }
   ],
   "source": [
    "num_cols = newdf._get_numeric_data().columns\n",
    "cols = newdf.columns\n",
    "list(set(cols) - set(num_cols))"
   ]
  },
  {
   "cell_type": "code",
   "execution_count": 12,
   "metadata": {},
   "outputs": [],
   "source": [
    "from sklearn.decomposition import PCA\n",
    "pca = PCA(n_components=2)\n",
    "pca_df = pca.fit_transform(newdf)"
   ]
  },
  {
   "cell_type": "code",
   "execution_count": 13,
   "metadata": {},
   "outputs": [
    {
     "data": {
      "text/plain": [
       "<matplotlib.collections.PathCollection at 0x261cefccc08>"
      ]
     },
     "execution_count": 13,
     "metadata": {},
     "output_type": "execute_result"
    },
    {
     "data": {
      "image/png": "[encoded data removed]",
      "text/plain": [
       "<Figure size 432x288 with 1 Axes>"
      ]
     },
     "metadata": {
      "needs_background": "light"
     },
     "output_type": "display_data"
    }
   ],
   "source": [
    "plt.scatter(pca_df[:,0], pca_df[:,1])"
   ]
  },
  {
   "cell_type": "code",
   "execution_count": 14,
   "metadata": {},
   "outputs": [],
   "source": [
    "distortions = [] \n",
    "inertias = [] \n",
    "mapping1 = {} \n",
    "mapping2 = {} \n",
    "K = range(1,20) \n",
    "import numpy as np\n",
    "from scipy.spatial.distance import cdist \n",
    "from sklearn.cluster import KMeans\n",
    "\n",
    "for k in K: \n",
    "    #Building and fitting the model \n",
    "    kmeanModel = KMeans(n_clusters=k).fit(newdf) \n",
    "    kmeanModel.fit(newdf)     \n",
    "      \n",
    "    distortions.append(sum(np.min(cdist(newdf, kmeanModel.cluster_centers_, \n",
    "                      'euclidean'),axis=1)) / newdf.shape[0]) \n",
    "    inertias.append(kmeanModel.inertia_) \n",
    "  \n",
    "    mapping1[k] = sum(np.min(cdist(newdf, kmeanModel.cluster_centers_, \n",
    "                 'euclidean'),axis=1)) / newdf.shape[0] \n",
    "    mapping2[k] = kmeanModel.inertia_ "
   ]
  },
  {
   "cell_type": "code",
   "execution_count": 15,
   "metadata": {},
   "outputs": [
    {
     "data": {
      "image/png": "[encoded data removed]",
      "text/plain": [
       "<Figure size 432x288 with 1 Axes>"
      ]
     },
     "metadata": {
      "needs_background": "light"
     },
     "output_type": "display_data"
    }
   ],
   "source": [
    "plt.plot(K, distortions, 'bx-') \n",
    "plt.xlabel('Values of K') \n",
    "plt.ylabel('Distortion') \n",
    "plt.title('The Elbow Method using Distortion') \n",
    "plt.show()"
   ]
  },
  {
   "cell_type": "code",
   "execution_count": 16,
   "metadata": {},
   "outputs": [],
   "source": [
    "kmeans = KMeans(n_clusters=8, random_state=0).fit(newdf)\n",
    "df['clusterLabels']= kmeans.labels_"
   ]
  },
  {
   "cell_type": "code",
   "execution_count": 17,
   "metadata": {},
   "outputs": [],
   "source": [
    "pcadf = pd.DataFrame(pca_df)\n",
    "pcadf['clusterLabels']= kmeans.labels_"
   ]
  },
  {
   "cell_type": "code",
   "execution_count": 18,
   "metadata": {},
   "outputs": [],
   "source": [
    "pcadf.columns = ['x','y','clusterID']"
   ]
  },
  {
   "cell_type": "code",
   "execution_count": 19,
   "metadata": {},
   "outputs": [
    {
     "data": {
      "text/plain": [
       "<seaborn.axisgrid.FacetGrid at 0x261cf4dc1c8>"
      ]
     },
     "execution_count": 19,
     "metadata": {},
     "output_type": "execute_result"
    },
    {
     "data": {
      "image/png": "[encoded data removed]",
      "text/plain": [
       "<Figure size 360x360 with 1 Axes>"
      ]
     },
     "metadata": {
      "needs_background": "light"
     },
     "output_type": "display_data"
    }
   ],
   "source": [
    "import seaborn as sns\n",
    " \n",
    "# Use the 'hue' argument to provide a factor variable\n",
    "sns.lmplot( x=\"x\", y=\"y\", data=pcadf, fit_reg=False, hue='clusterID', legend=False)\n"
   ]
  },
  {
   "cell_type": "code",
   "execution_count": 20,
   "metadata": {},
   "outputs": [],
   "source": [
    "df['Region'] = le_region.inverse_transform(df['Region'])\n",
    "df['LA Name'] = le_name.inverse_transform(df['LA Name'])"
   ]
  },
  {
   "cell_type": "code",
   "execution_count": 21,
   "metadata": {},
   "outputs": [],
   "source": [
    "df.to_csv('Output.csv',index = False)"
   ]
  },
  {
   "cell_type": "code",
   "execution_count": null,
   "metadata": {},
   "outputs": [],
   "source": []
  },
  {
   "cell_type": "code",
   "execution_count": null,
   "metadata": {},
   "outputs": [],
   "source": []
  }
 ],
 "metadata": {
  "kernelspec": {
   "display_name": "Python 3",
   "language": "python",
   "name": "python3"
  },
  "language_info": {
   "codemirror_mode": {
    "name": "ipython",
    "version": 3
   },
   "file_extension": ".py",
   "mimetype": "text/x-python",
   "name": "python",
   "nbconvert_exporter": "python",
   "pygments_lexer": "ipython3",
   "version": "3.7.4"
  }
 },
 "nbformat": 4,
 "nbformat_minor": 2
}